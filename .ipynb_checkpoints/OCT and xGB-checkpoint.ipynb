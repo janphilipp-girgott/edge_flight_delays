{
 "cells": [
  {
   "cell_type": "code",
   "execution_count": 1,
   "id": "b6ec0557-bf6a-49bb-80df-4f3989e57dda",
   "metadata": {},
   "outputs": [
    {
     "ename": "LoadError",
     "evalue": "ArgumentError: Package IAI not found in current path, maybe you meant `import/using .IAI`.\n- Otherwise, run `import Pkg; Pkg.add(\"IAI\")` to install the IAI package.",
     "output_type": "error",
     "traceback": [
      "ArgumentError: Package IAI not found in current path, maybe you meant `import/using .IAI`.\n- Otherwise, run `import Pkg; Pkg.add(\"IAI\")` to install the IAI package.",
      "",
      "Stacktrace:",
      " [1] macro expansion",
      "   @ ./loading.jl:1630 [inlined]",
      " [2] macro expansion",
      "   @ ./lock.jl:267 [inlined]",
      " [3] require(into::Module, mod::Symbol)",
      "   @ Base ./loading.jl:1611"
     ]
    }
   ],
   "source": [
    "using CSV, DataFrames, IAI"
   ]
  }
 ],
 "metadata": {
  "kernelspec": {
   "display_name": "Julia (IAI) 1.9.3",
   "language": "julia",
   "name": "julia-_iai_-1.9"
  },
  "language_info": {
   "file_extension": ".jl",
   "mimetype": "application/julia",
   "name": "julia",
   "version": "1.9.3"
  }
 },
 "nbformat": 4,
 "nbformat_minor": 5
}
