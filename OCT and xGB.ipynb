{
 "cells": [
  {
   "cell_type": "code",
   "execution_count": 1,
   "id": "b6ec0557-bf6a-49bb-80df-4f3989e57dda",
   "metadata": {},
   "outputs": [],
   "source": [
    "using ScikitLearn, DecisionTree, MLDataUtils, CSV, DataFrames, CategoricalArrays"
   ]
  },
  {
   "cell_type": "markdown",
   "id": "c1438461-171d-4848-b4ef-6ca41665c289",
   "metadata": {},
   "source": [
    "### Airport 1"
   ]
  },
  {
   "cell_type": "code",
   "execution_count": 2,
   "id": "6c2d68ca-1b35-4a84-85f8-91b8e4f6e0c8",
   "metadata": {},
   "outputs": [],
   "source": [
    "airport = CSV.read(\"Data_Cleaning/airport_1.csv\", DataFrame);\n",
    "remove_cols = [\"Column1\", \"ARR_DEL\", \"CARRIER_DELAY\", \"WEATHER_DELAY\", \"NAS_DELAY\", \"SECURITY_DELAY\", \"LATE_AIRCRAFT_DELAY\"]\n",
    "airport = select!(airport, Not(remove_cols))\n",
    "X = select(airport, Not(\"ARR_DEL15\"))\n",
    "y = airport[!,:ARR_DEL15];"
   ]
  },
  {
   "cell_type": "code",
   "execution_count": 3,
   "id": "757bd2b1-bd59-41fd-854c-99ba5a2a96c1",
   "metadata": {},
   "outputs": [],
   "source": [
    "#Create train, val and test set \n",
    "seed = 15072\n",
    "(X_train, y_train), (X_test, y_test) = IAI.split_data(:classification, X, y, seed=seed, train_proportion=0.8);"
   ]
  },
  {
   "cell_type": "code",
   "execution_count": 4,
   "id": "bf46e1c9-ffe5-42a9-86ce-01bc171c22e4",
   "metadata": {},
   "outputs": [
    {
     "name": "stderr",
     "output_type": "stream",
     "text": [
      "\u001b[33m\u001b[1m[ \u001b[22m\u001b[39m\u001b[33m\u001b[1mWarning: \u001b[22m\u001b[39mThis copy of Interpretable AI software is for academic purposes only and not for commercial use.\n"
     ]
    },
    {
     "ename": "LoadError",
     "evalue": "AssertionError: myapprox(root_score, gs.baseline_error)",
     "output_type": "error",
     "traceback": [
      "AssertionError: myapprox(root_score, gs.baseline_error)",
      "",
      "Stacktrace:",
      "  [1] check_root_score",
      "    @ /Users/iai/builds/e7x1Q22r/0/InterpretableAI/SystemImage/SysImgBuilder/.julia/packages/OptimalTrees/zQkaU/src/localsearch/greedy.jl:244 [inlined]",
      "  [2] greedy_search!(tree::IAITrees.Tree{IAIBase.ClassificationTask, IAITrees.Node{IAIBase.ClassificationTask, IAIBase.ClassificationFit}}, gs::OptimalTrees.LocalSearcher{IAIBase.ClassificationTask, OptimalTrees.ClassificationEvaluatorConstant{IAIBase.Gini}, IAIBase.ClassificationTarget})",
      "    @ OptimalTrees /Users/iai/builds/e7x1Q22r/0/InterpretableAI/SystemImage/SysImgBuilder/.julia/packages/OptimalTrees/zQkaU/src/localsearch/greedy.jl:24",
      "  [3] run_worker_iteration!(rep::Int64, show_progress::Bool, ls::OptimalTrees.LocalSearcher{IAIBase.ClassificationTask, OptimalTrees.ClassificationEvaluatorConstant{IAIBase.Misclassification}, IAIBase.ClassificationTarget}, gs::OptimalTrees.LocalSearcher{IAIBase.ClassificationTask, OptimalTrees.ClassificationEvaluatorConstant{IAIBase.Gini}, IAIBase.ClassificationTarget}, rng_gen::IAIBase.RandomStreams.MRG32k3aGen)",
      "    @ OptimalTrees /Users/iai/builds/e7x1Q22r/0/InterpretableAI/SystemImage/SysImgBuilder/.julia/packages/OptimalTrees/zQkaU/src/localsearch/distributed.jl:82",
      "  [4] run_task(tid::Int64, f_run::Function, f_setup::Function, job_channel::Channel{Int64}, results_channel::Channel{Any}, progress::IAIBase.Progress, uses_subprogress::Bool, obj::Tuple{OptimalTrees.LocalSearcher{IAIBase.ClassificationTask, OptimalTrees.ClassificationEvaluatorConstant{IAIBase.Misclassification}, IAIBase.ClassificationTarget}, OptimalTrees.LocalSearcher{IAIBase.ClassificationTask, OptimalTrees.ClassificationEvaluatorConstant{IAIBase.Gini}, IAIBase.ClassificationTarget}})",
      "    @ IAIBase /Users/iai/builds/e7x1Q22r/0/InterpretableAI/SystemImage/SysImgBuilder/.julia/packages/IAIBase/KTDAt/src/utils/distributed.jl:229",
      "  [5] spawn_tasks(::Int64, ::Int64, ::Function, ::Vararg{Any})",
      "    @ IAIBase /Users/iai/builds/e7x1Q22r/0/InterpretableAI/SystemImage/SysImgBuilder/.julia/packages/IAIBase/KTDAt/src/utils/distributed.jl:195",
      "  [6] macro expansion",
      "    @ /Users/iai/builds/e7x1Q22r/0/InterpretableAI/SystemImage/SysImgBuilder/.julia/packages/IAIBase/KTDAt/src/utils/distributed.jl:156 [inlined]",
      "  [7] macro expansion",
      "    @ ./task.jl:476 [inlined]",
      "  [8] run_distributed!(f_consume::Function, obj::Tuple{OptimalTrees.LocalSearcher{IAIBase.ClassificationTask, OptimalTrees.ClassificationEvaluatorConstant{IAIBase.Misclassification}, IAIBase.ClassificationTarget}, OptimalTrees.LocalSearcher{IAIBase.ClassificationTask, OptimalTrees.ClassificationEvaluatorConstant{IAIBase.Gini}, IAIBase.ClassificationTarget}}, f_run::Function, f_setup::Function, jobs::Vector{Int64}, procs::Vector{Int64}, n_threads::Int64, progress::IAIBase.Progress, uses_subprogress::Bool, f_checkpoint::OptimalTrees.var\"#121#125\"{OptimalTrees.OptimalTreeClassifier, Int64})",
      "    @ IAIBase /Users/iai/builds/e7x1Q22r/0/InterpretableAI/SystemImage/SysImgBuilder/.julia/packages/IAIBase/KTDAt/src/utils/distributed.jl:144",
      "  [9] run_distributed(show_progress::Bool, procs::Vector{Int64}, n_threads::Int64, jobs::Vector{Int64}, message::String; iter_func::Function, iter_input::Tuple{OptimalTrees.LocalSearcher{IAIBase.ClassificationTask, OptimalTrees.ClassificationEvaluatorConstant{IAIBase.Misclassification}, IAIBase.ClassificationTarget}, OptimalTrees.LocalSearcher{IAIBase.ClassificationTask, OptimalTrees.ClassificationEvaluatorConstant{IAIBase.Gini}, IAIBase.ClassificationTarget}}, iter_setup::Function, iter_uses_subprogress::Bool, consume_func::Function, checkpoint_func::Function)",
      "    @ IAIBase /Users/iai/builds/e7x1Q22r/0/InterpretableAI/SystemImage/SysImgBuilder/.julia/packages/IAIBase/KTDAt/src/utils/distributed.jl:102",
      " [10] run_distributed(::OptimalTrees.OptimalTreeClassifier, ::Vector{Int64}, ::Vararg{Any}; show_progress::Bool, kwargs::Base.Pairs{Symbol, Any, NTuple{6, Symbol}, NamedTuple{(:iter_input, :iter_setup, :iter_func, :iter_uses_subprogress, :consume_func, :checkpoint_func), Tuple{Tuple{OptimalTrees.LocalSearcher{IAIBase.ClassificationTask, OptimalTrees.ClassificationEvaluatorConstant{IAIBase.Misclassification}, IAIBase.ClassificationTarget}, OptimalTrees.LocalSearcher{IAIBase.ClassificationTask, OptimalTrees.ClassificationEvaluatorConstant{IAIBase.Gini}, IAIBase.ClassificationTarget}}, typeof(OptimalTrees.task_local_copy), typeof(OptimalTrees.run_worker_iteration!), Bool, OptimalTrees.var\"#120#124\"{OptimalTrees.OptimalTreeClassifier}, OptimalTrees.var\"#121#125\"{OptimalTrees.OptimalTreeClassifier, Int64}}}})",
      "    @ IAIBase /Users/iai/builds/e7x1Q22r/0/InterpretableAI/SystemImage/SysImgBuilder/.julia/packages/IAIBase/KTDAt/src/learner.jl:441",
      " [11] run_distributed",
      "    @ /Users/iai/builds/e7x1Q22r/0/InterpretableAI/SystemImage/SysImgBuilder/.julia/packages/IAIBase/KTDAt/src/learner.jl:436 [inlined]",
      " [12] _fit!(lnr::OptimalTrees.OptimalTreeClassifier, ls::OptimalTrees.LocalSearcher{IAIBase.ClassificationTask, OptimalTrees.ClassificationEvaluatorConstant{IAIBase.Misclassification}, IAIBase.ClassificationTarget}, gs::OptimalTrees.LocalSearcher{IAIBase.ClassificationTask, OptimalTrees.ClassificationEvaluatorConstant{IAIBase.Gini}, IAIBase.ClassificationTarget}, is_resuming::Bool)",
      "    @ OptimalTrees /Users/iai/builds/e7x1Q22r/0/InterpretableAI/SystemImage/SysImgBuilder/.julia/packages/OptimalTrees/zQkaU/src/localsearch/distributed.jl:21",
      " [13] _fit!(lnr::OptimalTrees.OptimalTreeClassifier; is_resuming::Bool)",
      "    @ OptimalTrees /Users/iai/builds/e7x1Q22r/0/InterpretableAI/SystemImage/SysImgBuilder/.julia/packages/OptimalTrees/zQkaU/src/localsearch/distributed.jl:7",
      " [14] _fit!",
      "    @ /Users/iai/builds/e7x1Q22r/0/InterpretableAI/SystemImage/SysImgBuilder/.julia/packages/OptimalTrees/zQkaU/src/localsearch/distributed.jl:2 [inlined]",
      " [15] #302",
      "    @ /Users/iai/builds/e7x1Q22r/0/InterpretableAI/SystemImage/SysImgBuilder/.julia/packages/IAIBase/KTDAt/src/api.jl:244 [inlined]",
      " [16] acquire_license(f::IAIBase.var\"#302#303\"{Base.Pairs{Symbol, Union{}, Tuple{}, NamedTuple{(), Tuple{}}}, OptimalTrees.OptimalTreeClassifier}; parallel_processes::Vector{Int64})",
      "    @ IAILicensing /Users/iai/builds/e7x1Q22r/0/InterpretableAI/SystemImage/SysImgBuilder/.julia/packages/IAILicensing/OeTOh/src/licensing.jl:269",
      " [17] acquire_license(f::Function, lnr::OptimalTrees.OptimalTreeClassifier)",
      "    @ IAIBase ~/.julia/artifacts/713e37550632565e5886caedb16eaaea065daea9/environments/Julia_v1_9_3__IAI_v3_2_0/Julia_v1_9_3__IAI_v3_2_0.dylib:-1",
      " [18] _fit!(lnr::OptimalTrees.OptimalTreeClassifier, data::IAIBase.Data{IAIBase.ClassificationTask, IAIBase.ClassificationTarget}; kwargs::Base.Pairs{Symbol, Union{}, Tuple{}, NamedTuple{(), Tuple{}}})",
      "    @ IAIBase /Users/iai/builds/e7x1Q22r/0/InterpretableAI/SystemImage/SysImgBuilder/.julia/packages/IAIBase/KTDAt/src/api.jl:243",
      " [19] _fit!",
      "    @ /Users/iai/builds/e7x1Q22r/0/InterpretableAI/SystemImage/SysImgBuilder/.julia/packages/IAIBase/KTDAt/src/api.jl:236 [inlined]",
      " [20] macro expansion",
      "    @ /Users/iai/builds/e7x1Q22r/0/InterpretableAI/SystemImage/SysImgBuilder/.julia/packages/IAIBase/KTDAt/src/gridsearch.jl:792 [inlined]",
      " [21] macro expansion",
      "    @ /Users/iai/builds/e7x1Q22r/0/InterpretableAI/SystemImage/SysImgBuilder/.julia/packages/IAIBase/KTDAt/src/utils/progress.jl:312 [inlined]",
      " [22] _fit_inner!(grid::IAIBase.GridSearch{OptimalTrees.OptimalTreeClassifier, IAITrees.TreeGridResult, IAIBase.Data{IAIBase.ClassificationTask, IAIBase.ClassificationTarget}}; validation_criterion::Symbol, verbose::Bool, run_gc::Bool, is_resuming::Bool, kwargs::Base.Pairs{Symbol, Union{}, Tuple{}, NamedTuple{(), Tuple{}}})",
      "    @ IAIBase /Users/iai/builds/e7x1Q22r/0/InterpretableAI/SystemImage/SysImgBuilder/.julia/packages/IAIBase/KTDAt/src/gridsearch.jl:775",
      " [23] _fit!(grid::IAIBase.GridSearch{OptimalTrees.OptimalTreeClassifier, IAITrees.TreeGridResult, IAIBase.Data{IAIBase.ClassificationTask, IAIBase.ClassificationTarget}}; kwargs::Base.Pairs{Symbol, Union{}, Tuple{}, NamedTuple{(), Tuple{}}})",
      "    @ IAIBase /Users/iai/builds/e7x1Q22r/0/InterpretableAI/SystemImage/SysImgBuilder/.julia/packages/IAIBase/KTDAt/src/gridsearch.jl:654",
      " [24] _fit!",
      "    @ /Users/iai/builds/e7x1Q22r/0/InterpretableAI/SystemImage/SysImgBuilder/.julia/packages/IAIBase/KTDAt/src/gridsearch.jl:653 [inlined]",
      " [25] #271",
      "    @ /Users/iai/builds/e7x1Q22r/0/InterpretableAI/SystemImage/SysImgBuilder/.julia/packages/IAIBase/KTDAt/src/gridsearch.jl:648 [inlined]",
      " [26] acquire_license(f::IAIBase.var\"#271#272\"{IAIBase.GridSearch{OptimalTrees.OptimalTreeClassifier, IAITrees.TreeGridResult, IAIBase.Data{IAIBase.ClassificationTask, IAIBase.ClassificationTarget}}}; parallel_processes::Vector{Int64})",
      "    @ IAILicensing /Users/iai/builds/e7x1Q22r/0/InterpretableAI/SystemImage/SysImgBuilder/.julia/packages/IAILicensing/OeTOh/src/licensing.jl:269",
      " [27] acquire_license(f::Function, lnr::OptimalTrees.OptimalTreeClassifier)",
      "    @ IAIBase ~/.julia/artifacts/713e37550632565e5886caedb16eaaea065daea9/environments/Julia_v1_9_3__IAI_v3_2_0/Julia_v1_9_3__IAI_v3_2_0.dylib:-1",
      " [28] #acquire_license#244",
      "    @ /Users/iai/builds/e7x1Q22r/0/InterpretableAI/SystemImage/SysImgBuilder/.julia/packages/IAIBase/KTDAt/src/gridsearch.jl:310 [inlined]",
      " [29] acquire_license",
      "    @ /Users/iai/builds/e7x1Q22r/0/InterpretableAI/SystemImage/SysImgBuilder/.julia/packages/IAIBase/KTDAt/src/gridsearch.jl:308 [inlined]",
      " [30] _fit_common!(grid::IAIBase.GridSearch{OptimalTrees.OptimalTreeClassifier, IAITrees.TreeGridResult, IAIBase.Data{IAIBase.ClassificationTask, IAIBase.ClassificationTarget}}, data::IAIBase.Data{IAIBase.ClassificationTask, IAIBase.ClassificationTarget}; kwargs::Base.Pairs{Symbol, Symbol, Tuple{Symbol}, NamedTuple{(:validation_criterion,), Tuple{Symbol}}})",
      "    @ IAIBase /Users/iai/builds/e7x1Q22r/0/InterpretableAI/SystemImage/SysImgBuilder/.julia/packages/IAIBase/KTDAt/src/gridsearch.jl:647",
      " [31] _fit_common!",
      "    @ /Users/iai/builds/e7x1Q22r/0/InterpretableAI/SystemImage/SysImgBuilder/.julia/packages/IAIBase/KTDAt/src/gridsearch.jl:639 [inlined]",
      " [32] _fit_cv!(grid::IAIBase.GridSearch{OptimalTrees.OptimalTreeClassifier, IAITrees.TreeGridResult, IAIBase.Data{IAIBase.ClassificationTask, IAIBase.ClassificationTarget}}, data::IAIBase.Data{IAIBase.ClassificationTask, IAIBase.ClassificationTarget}; n_folds::Int64, kwargs::Base.Pairs{Symbol, Symbol, Tuple{Symbol}, NamedTuple{(:validation_criterion,), Tuple{Symbol}}})",
      "    @ IAIBase /Users/iai/builds/e7x1Q22r/0/InterpretableAI/SystemImage/SysImgBuilder/.julia/packages/IAIBase/KTDAt/src/gridsearch.jl:635",
      " [33] _fit_cv!",
      "    @ /Users/iai/builds/e7x1Q22r/0/InterpretableAI/SystemImage/SysImgBuilder/.julia/packages/IAIBase/KTDAt/src/gridsearch.jl:614 [inlined]",
      " [34] #fit_cv!#424",
      "    @ /Users/iai/builds/e7x1Q22r/0/InterpretableAI/SystemImage/SysImgBuilder/.julia/packages/IAIBase/KTDAt/src/api.jl:154 [inlined]",
      " [35] top-level scope",
      "    @ In[4]:8"
     ]
    }
   ],
   "source": [
    "lnr_oct = IAI.OptimalTreeClassifier(random_seed=seed)\n",
    "\n",
    "grid_oct = IAI.GridSearch(lnr_oct,\n",
    "            max_depth=2:6, \n",
    "            minbucket=[5, 10, 20, 30], \n",
    "            max_categoric_levels_before_warning=15)\n",
    "\n",
    "IAI.fit_cv!(grid_oct, X_train, Array(y_train), validation_criterion = :auc, n_folds=5)"
   ]
  },
  {
   "cell_type": "code",
   "execution_count": 5,
   "id": "3faa4b4c-c53d-425d-a74f-211d8cbc905a",
   "metadata": {},
   "outputs": [
    {
     "ename": "LoadError",
     "evalue": "InterruptException:",
     "output_type": "error",
     "traceback": [
      "InterruptException:",
      "",
      "Stacktrace:",
      "  [1] Array",
      "    @ ./boot.jl:477 [inlined]",
      "  [2] getindex",
      "    @ ./array.jl:400 [inlined]",
      "  [3] DMatrix",
      "    @ /Users/iai/builds/e7x1Q22r/0/InterpretableAI/SystemImage/SysImgBuilder/.julia/packages/XGBoost/sa5Xe/src/dmatrix.jl:85 [inlined]",
      "  [4] _dmatrix(x::Matrix{Float64}; missing_value::Float32, kw::Base.Pairs{Symbol, Vector{Int64}, Tuple{Symbol}, NamedTuple{(:label,), Tuple{Vector{Int64}}}})",
      "    @ XGBoost /Users/iai/builds/e7x1Q22r/0/InterpretableAI/SystemImage/SysImgBuilder/.julia/packages/XGBoost/sa5Xe/src/dmatrix.jl:184",
      "  [5] _dmatrix",
      "    @ /Users/iai/builds/e7x1Q22r/0/InterpretableAI/SystemImage/SysImgBuilder/.julia/packages/XGBoost/sa5Xe/src/dmatrix.jl:179 [inlined]",
      "  [6] #DMatrix#10",
      "    @ /Users/iai/builds/e7x1Q22r/0/InterpretableAI/SystemImage/SysImgBuilder/.julia/packages/XGBoost/sa5Xe/src/dmatrix.jl:189 [inlined]",
      "  [7] DMatrix",
      "    @ /Users/iai/builds/e7x1Q22r/0/InterpretableAI/SystemImage/SysImgBuilder/.julia/packages/XGBoost/sa5Xe/src/dmatrix.jl:187 [inlined]",
      "  [8] #DMatrix#17",
      "    @ /Users/iai/builds/e7x1Q22r/0/InterpretableAI/SystemImage/SysImgBuilder/.julia/packages/XGBoost/sa5Xe/src/dmatrix.jl:247 [inlined]",
      "  [9] DMatrix",
      "    @ /Users/iai/builds/e7x1Q22r/0/InterpretableAI/SystemImage/SysImgBuilder/.julia/packages/XGBoost/sa5Xe/src/dmatrix.jl:247 [inlined]",
      " [10] make_dmatrix(data::IAIBase.Data{IAIBase.ClassificationTask, IAIBase.ClassificationTarget})",
      "    @ Heuristics /Users/iai/builds/e7x1Q22r/0/InterpretableAI/SystemImage/SysImgBuilder/.julia/packages/Heuristics/jjFKp/src/xgboost/general.jl:345",
      " [11] _fit!(lnr::Heuristics.XGBoostClassifier; is_resuming::Bool)",
      "    @ Heuristics /Users/iai/builds/e7x1Q22r/0/InterpretableAI/SystemImage/SysImgBuilder/.julia/packages/Heuristics/jjFKp/src/xgboost/general.jl:293",
      " [12] _fit!",
      "    @ /Users/iai/builds/e7x1Q22r/0/InterpretableAI/SystemImage/SysImgBuilder/.julia/packages/Heuristics/jjFKp/src/xgboost/general.jl:259 [inlined]",
      " [13] #302",
      "    @ /Users/iai/builds/e7x1Q22r/0/InterpretableAI/SystemImage/SysImgBuilder/.julia/packages/IAIBase/KTDAt/src/api.jl:244 [inlined]",
      " [14] acquire_license(f::IAIBase.var\"#302#303\"{Base.Pairs{Symbol, Union{}, Tuple{}, NamedTuple{(), Tuple{}}}, Heuristics.XGBoostClassifier}; parallel_processes::Vector{Int64})",
      "    @ IAILicensing /Users/iai/builds/e7x1Q22r/0/InterpretableAI/SystemImage/SysImgBuilder/.julia/packages/IAILicensing/OeTOh/src/licensing.jl:269",
      " [15] acquire_license(f::Function, lnr::Heuristics.XGBoostClassifier)",
      "    @ IAIBase /Users/iai/builds/e7x1Q22r/0/InterpretableAI/SystemImage/SysImgBuilder/.julia/packages/IAIBase/KTDAt/src/learner.jl:589",
      " [16] _fit!(lnr::Heuristics.XGBoostClassifier, data::IAIBase.Data{IAIBase.ClassificationTask, IAIBase.ClassificationTarget}; kwargs::Base.Pairs{Symbol, Union{}, Tuple{}, NamedTuple{(), Tuple{}}})",
      "    @ IAIBase /Users/iai/builds/e7x1Q22r/0/InterpretableAI/SystemImage/SysImgBuilder/.julia/packages/IAIBase/KTDAt/src/api.jl:243",
      " [17] _fit!",
      "    @ /Users/iai/builds/e7x1Q22r/0/InterpretableAI/SystemImage/SysImgBuilder/.julia/packages/IAIBase/KTDAt/src/api.jl:236 [inlined]",
      " [18] grid_fit!(lnr::Heuristics.XGBoostClassifier, data::IAIBase.Data{IAIBase.ClassificationTask, IAIBase.ClassificationTarget}, fold::Tuple{Vector{Int64}, Vector{Int64}}, params::Dict{Symbol, Any}, validation_criterion::Symbol; is_resuming::Bool, kwargs::Base.Pairs{Symbol, Union{}, Tuple{}, NamedTuple{(), Tuple{}}})",
      "    @ IAIBase /Users/iai/builds/e7x1Q22r/0/InterpretableAI/SystemImage/SysImgBuilder/.julia/packages/IAIBase/KTDAt/src/gridsearch.jl:858",
      " [19] grid_fit!",
      "    @ /Users/iai/builds/e7x1Q22r/0/InterpretableAI/SystemImage/SysImgBuilder/.julia/packages/IAIBase/KTDAt/src/gridsearch.jl:842 [inlined]",
      " [20] macro expansion",
      "    @ /Users/iai/builds/e7x1Q22r/0/InterpretableAI/SystemImage/SysImgBuilder/.julia/packages/IAIBase/KTDAt/src/gridsearch.jl:726 [inlined]",
      " [21] macro expansion",
      "    @ /Users/iai/builds/e7x1Q22r/0/InterpretableAI/SystemImage/SysImgBuilder/.julia/packages/IAIBase/KTDAt/src/utils/progress.jl:312 [inlined]",
      " [22] macro expansion",
      "    @ /Users/iai/builds/e7x1Q22r/0/InterpretableAI/SystemImage/SysImgBuilder/.julia/packages/IAIBase/KTDAt/src/gridsearch.jl:696 [inlined]",
      " [23] macro expansion",
      "    @ /Users/iai/builds/e7x1Q22r/0/InterpretableAI/SystemImage/SysImgBuilder/.julia/packages/IAIBase/KTDAt/src/utils/progress.jl:312 [inlined]",
      " [24] _fit_inner!(grid::IAIBase.GridSearch{Heuristics.XGBoostClassifier, IAIBase.NullGridResult, IAIBase.Data{IAIBase.ClassificationTask, IAIBase.ClassificationTarget}}; validation_criterion::Symbol, verbose::Bool, run_gc::Bool, is_resuming::Bool, kwargs::Base.Pairs{Symbol, Union{}, Tuple{}, NamedTuple{(), Tuple{}}})",
      "    @ IAIBase /Users/iai/builds/e7x1Q22r/0/InterpretableAI/SystemImage/SysImgBuilder/.julia/packages/IAIBase/KTDAt/src/gridsearch.jl:692",
      " [25] _fit!(grid::IAIBase.GridSearch{Heuristics.XGBoostClassifier, IAIBase.NullGridResult, IAIBase.Data{IAIBase.ClassificationTask, IAIBase.ClassificationTarget}}; kwargs::Base.Pairs{Symbol, Union{}, Tuple{}, NamedTuple{(), Tuple{}}})",
      "    @ IAIBase /Users/iai/builds/e7x1Q22r/0/InterpretableAI/SystemImage/SysImgBuilder/.julia/packages/IAIBase/KTDAt/src/gridsearch.jl:654",
      " [26] _fit!",
      "    @ /Users/iai/builds/e7x1Q22r/0/InterpretableAI/SystemImage/SysImgBuilder/.julia/packages/IAIBase/KTDAt/src/gridsearch.jl:653 [inlined]",
      " [27] #271",
      "    @ /Users/iai/builds/e7x1Q22r/0/InterpretableAI/SystemImage/SysImgBuilder/.julia/packages/IAIBase/KTDAt/src/gridsearch.jl:648 [inlined]",
      " [28] acquire_license(f::IAIBase.var\"#271#272\"{IAIBase.GridSearch{Heuristics.XGBoostClassifier, IAIBase.NullGridResult, IAIBase.Data{IAIBase.ClassificationTask, IAIBase.ClassificationTarget}}}; parallel_processes::Vector{Int64})",
      "    @ IAILicensing /Users/iai/builds/e7x1Q22r/0/InterpretableAI/SystemImage/SysImgBuilder/.julia/packages/IAILicensing/OeTOh/src/licensing.jl:269",
      " [29] acquire_license(f::Function, lnr::Heuristics.XGBoostClassifier)",
      "    @ IAIBase /Users/iai/builds/e7x1Q22r/0/InterpretableAI/SystemImage/SysImgBuilder/.julia/packages/IAIBase/KTDAt/src/learner.jl:589",
      " [30] #acquire_license#244",
      "    @ /Users/iai/builds/e7x1Q22r/0/InterpretableAI/SystemImage/SysImgBuilder/.julia/packages/IAIBase/KTDAt/src/gridsearch.jl:310 [inlined]",
      " [31] acquire_license",
      "    @ /Users/iai/builds/e7x1Q22r/0/InterpretableAI/SystemImage/SysImgBuilder/.julia/packages/IAIBase/KTDAt/src/gridsearch.jl:308 [inlined]",
      " [32] _fit_common!(grid::IAIBase.GridSearch{Heuristics.XGBoostClassifier, IAIBase.NullGridResult, IAIBase.Data{IAIBase.ClassificationTask, IAIBase.ClassificationTarget}}, data::IAIBase.Data{IAIBase.ClassificationTask, IAIBase.ClassificationTarget}; kwargs::Base.Pairs{Symbol, Symbol, Tuple{Symbol}, NamedTuple{(:validation_criterion,), Tuple{Symbol}}})",
      "    @ IAIBase /Users/iai/builds/e7x1Q22r/0/InterpretableAI/SystemImage/SysImgBuilder/.julia/packages/IAIBase/KTDAt/src/gridsearch.jl:647",
      " [33] _fit_common!",
      "    @ /Users/iai/builds/e7x1Q22r/0/InterpretableAI/SystemImage/SysImgBuilder/.julia/packages/IAIBase/KTDAt/src/gridsearch.jl:639 [inlined]",
      " [34] _fit_cv!(grid::IAIBase.GridSearch{Heuristics.XGBoostClassifier, IAIBase.NullGridResult, IAIBase.Data{IAIBase.ClassificationTask, IAIBase.ClassificationTarget}}, data::IAIBase.Data{IAIBase.ClassificationTask, IAIBase.ClassificationTarget}; n_folds::Int64, kwargs::Base.Pairs{Symbol, Symbol, Tuple{Symbol}, NamedTuple{(:validation_criterion,), Tuple{Symbol}}})",
      "    @ IAIBase /Users/iai/builds/e7x1Q22r/0/InterpretableAI/SystemImage/SysImgBuilder/.julia/packages/IAIBase/KTDAt/src/gridsearch.jl:635",
      " [35] _fit_cv!",
      "    @ /Users/iai/builds/e7x1Q22r/0/InterpretableAI/SystemImage/SysImgBuilder/.julia/packages/IAIBase/KTDAt/src/gridsearch.jl:614 [inlined]",
      " [36] #fit_cv!#424",
      "    @ /Users/iai/builds/e7x1Q22r/0/InterpretableAI/SystemImage/SysImgBuilder/.julia/packages/IAIBase/KTDAt/src/api.jl:154 [inlined]"
     ]
    }
   ],
   "source": [
    "lnr_xgb = IAI.XGBoostClassifier(random_seed=seed)\n",
    "\n",
    "grid_xgb = IAI.GridSearch(lnr_xgb,\n",
    "            random_seed=seed,\n",
    "            max_depth=2:6, \n",
    "            minbucket=[5, 10, 20, 30],\n",
    "            num_predictors = 10:10:100,\n",
    "            max_categoric_levels_before_warning=15)\n",
    "\n",
    "IAI.fit_cv!(grid_xgb, X_train, Array(y_train), validation_criterion = :auc, n_folds=5)"
   ]
  },
  {
   "cell_type": "code",
   "execution_count": 9,
   "id": "0a51b72f-d449-4205-a5d9-adad7f0ff7a6",
   "metadata": {},
   "outputs": [
    {
     "data": {
      "text/plain": [
       "127422-element view(::Vector{Int64}, [1, 2, 3, 4, 5, 6, 8, 9, 10, 11  …  159266, 159267, 159269, 159270, 159271, 159272, 159273, 159276, 159277, 159278]) with eltype Int64:\n",
       " 0\n",
       " 0\n",
       " 0\n",
       " 0\n",
       " 0\n",
       " 0\n",
       " 0\n",
       " 0\n",
       " 0\n",
       " 0\n",
       " 0\n",
       " 0\n",
       " 0\n",
       " ⋮\n",
       " 0\n",
       " 0\n",
       " 0\n",
       " 0\n",
       " 0\n",
       " 0\n",
       " 0\n",
       " 0\n",
       " 0\n",
       " 0\n",
       " 0\n",
       " 0"
      ]
     },
     "execution_count": 9,
     "metadata": {},
     "output_type": "execute_result"
    }
   ],
   "source": [
    "y_train"
   ]
  },
  {
   "cell_type": "code",
   "execution_count": null,
   "id": "1e44f371-61e6-4c7d-a2f3-bd74d8370063",
   "metadata": {},
   "outputs": [],
   "source": []
  }
 ],
 "metadata": {
  "kernelspec": {
   "display_name": "Julia (IAI) 1.9.3",
   "language": "julia",
   "name": "julia-_iai_-1.9"
  },
  "language_info": {
   "file_extension": ".jl",
   "mimetype": "application/julia",
   "name": "julia",
   "version": "1.9.3"
  }
 },
 "nbformat": 4,
 "nbformat_minor": 5
}
