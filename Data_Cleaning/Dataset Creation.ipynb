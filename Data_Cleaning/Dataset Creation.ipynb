{
 "cells": [
  {
   "cell_type": "code",
   "execution_count": 1,
   "id": "38f07ddd-fbfb-4070-8047-c8c5c351ca47",
   "metadata": {},
   "outputs": [],
   "source": [
    "import pandas as pd"
   ]
  },
  {
   "cell_type": "code",
   "execution_count": 6,
   "id": "4d447912-152d-49e1-be22-eef48ba57c37",
   "metadata": {},
   "outputs": [
    {
     "data": {
      "text/plain": [
       "Index(['MONTH', 'DAY_OF_WEEK', 'DEP_DEL15', 'DEP_TIME_BLK', 'DISTANCE_GROUP',\n",
       "       'CARRIER_DELAY', 'WEATHER_DELAY', 'NAS_DELAY', 'SECURITY_DELAY',\n",
       "       'LATE_AIRCRAFT_DELAY', 'SEGMENT_NUMBER', 'CONCURRENT_FLIGHTS',\n",
       "       'NUMBER_OF_SEATS', 'CARRIER_NAME', 'AIRPORT_FLIGHTS_MONTH',\n",
       "       'AIRLINE_FLIGHTS_MONTH', 'AIRLINE_AIRPORT_FLIGHTS_MONTH',\n",
       "       'AVG_MONTHLY_PASS_AIRPORT', 'AVG_MONTHLY_PASS_AIRLINE',\n",
       "       'FLT_ATTENDANTS_PER_PASS', 'GROUND_SERV_PER_PASS', 'PLANE_AGE',\n",
       "       'DEPARTING_AIRPORT', 'LATITUDE', 'LONGITUDE', 'PREVIOUS_AIRPORT',\n",
       "       'PRCP', 'SNOW', 'SNWD', 'TMAX', 'AWND'],\n",
       "      dtype='object')"
      ]
     },
     "execution_count": 6,
     "metadata": {},
     "output_type": "execute_result"
    }
   ],
   "source": [
    "df = pd.read_csv(\"train_val.csv\")\n",
    "df.columns"
   ]
  },
  {
   "cell_type": "code",
   "execution_count": 7,
   "id": "351df126-3fc3-47ed-8f22-52322c5cfc91",
   "metadata": {},
   "outputs": [],
   "source": [
    "top_three_carriers = df['CARRIER_NAME'].value_counts().head(3).index\n",
    "\n",
    "# Creating DataFrames for each of the top three carriers\n",
    "df_carrier_1 = df[df['CARRIER_NAME'] == top_three_carriers[0]]\n",
    "df_carrier_2 = df[df['CARRIER_NAME'] == top_three_carriers[1]]\n",
    "df_carrier_3 = df[df['CARRIER_NAME'] == top_three_carriers[2]]\n",
    "\n",
    "# Finding the top three airports\n",
    "top_three_airports = df['DEPARTING_AIRPORT'].value_counts().head(3).index\n",
    "\n",
    "# Creating DataFrames for each of the top three airports\n",
    "df_airport_1 = df[df['DEPARTING_AIRPORT'] == top_three_airports[0]]\n",
    "df_airport_2 = df[df['DEPARTING_AIRPORT'] == top_three_airports[1]]\n",
    "df_airport_3 = df[df['DEPARTING_AIRPORT'] == top_three_airports[2]]"
   ]
  },
  {
   "cell_type": "code",
   "execution_count": 9,
   "id": "1cf195d2-6185-4f58-a67b-2f6559a59995",
   "metadata": {},
   "outputs": [],
   "source": [
    "# Export the DataFrames for the top three carriers\n",
    "df_carrier_1.to_csv('carrier_1.csv', index=False)\n",
    "df_carrier_2.to_csv('carrier_2.csv', index=False)\n",
    "df_carrier_3.to_csv('carrier_3.csv', index=False)\n",
    "\n",
    "# Export the DataFrames for the top three airports\n",
    "df_airport_1.to_csv('airport_1.csv', index=False)\n",
    "df_airport_2.to_csv('airport_2.csv', index=False)\n",
    "df_airport_3.to_csv('airport_3.csv', index=False)"
   ]
  }
 ],
 "metadata": {
  "kernelspec": {
   "display_name": "Python 3 (ipykernel)",
   "language": "python",
   "name": "python3"
  },
  "language_info": {
   "codemirror_mode": {
    "name": "ipython",
    "version": 3
   },
   "file_extension": ".py",
   "mimetype": "text/x-python",
   "name": "python",
   "nbconvert_exporter": "python",
   "pygments_lexer": "ipython3",
   "version": "3.10.12"
  }
 },
 "nbformat": 4,
 "nbformat_minor": 5
}
